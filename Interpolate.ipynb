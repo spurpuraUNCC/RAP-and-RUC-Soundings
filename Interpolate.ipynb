{
 "cells": [
  {
   "cell_type": "code",
   "execution_count": 1,
   "metadata": {},
   "outputs": [],
   "source": [
    "import numpy as np\n",
    "import pandas as pd\n",
    "import scipy.interpolate as interp"
   ]
  },
  {
   "cell_type": "code",
   "execution_count": 353,
   "metadata": {},
   "outputs": [],
   "source": [
    "def interp(data_frame,out):\n",
    "    h=np.array(data_frame['Height'][1:])\n",
    "    p=np.array(data_frame[\"Pressure\"][1:])\n",
    "    t=np.array(data_frame['Temp'][1:])\n",
    "    td=np.array(data_frame['Dew'][1:])\n",
    "    prof=np.array(data_frame['Profile'][1:])\n",
    "    u=np.array(data_frame['U'][1:])\n",
    "    v=np.array(data_frame['V'][1:])\n",
    "    wdsp=np.array(data_frame['Wind Speed'][1:])\n",
    "    \n",
    "    ppinterp=[]\n",
    "    tinterp = []\n",
    "    tdinterp = []\n",
    "    printerp = []\n",
    "    uuinterp = []\n",
    "    vvinterp = []\n",
    "    wsinterp = []\n",
    "    hh=[]\n",
    "    new_h=[]\n",
    "    \n",
    "    for i in range(0,len(h)):\n",
    "        hh.append(h[i]-h[0])\n",
    "\n",
    "    \n",
    "    for i in range(0,15100,100):\n",
    "        new_h.append([i])     \n",
    "        \n",
    "\n",
    "\n",
    "    for j in range (0,151):\n",
    "        for i in range (0,len(hh)):\n",
    "            if (((hh[i])<=new_h[j]) and ((hh[i+1])>new_h[j])):\n",
    "                ibot=i\n",
    "                itop=i+1\n",
    "\n",
    "            zzdiff=hh[itop]-hh[ibot]\n",
    "            wgttop=(new_h[j]-hh[ibot])/zzdiff        \n",
    "            wgtbot=(hh[itop]-new_h[j])/zzdiff\n",
    "          \n",
    "   \n",
    "        ppinterp.append(np.array(wgttop*p[itop] + wgtbot*p[ibot]))\n",
    "        tinterp.append(np.array(wgttop*t[itop] + wgtbot*t[ibot]))\n",
    "        tdinterp.append(np.array(wgttop*td[itop] + wgtbot*td[ibot]))\n",
    "        printerp.append(np.array(wgttop*prof[itop] + wgtbot*prof[ibot]))\n",
    "        uuinterp.append(np.array(wgttop*u[itop] + wgtbot*u[ibot]))\n",
    "        vvinterp.append(np.array(wgttop*v[itop] + wgtbot*v[ibot]))\n",
    "        wsinterp.append(np.array(wgttop*wdsp[itop] + wgtbot*wdsp[ibot]))\n",
    "        \n",
    "    new_h=np.array(new_h).flatten()\n",
    "    ppinterp=np.array(ppinterp).flatten()\n",
    "    tinterp=np.array(tinterp).flatten()\n",
    "    tdinterp=np.array(tdinterp).flatten()\n",
    "    printerp=np.array(printerp).flatten()\n",
    "    uuinterp=np.array(uuinterp).flatten()\n",
    "    vvinterp=np.array(vvinterp).flatten()\n",
    "    wsinterp=np.array(wsinterp).flatten()\n",
    "    \n",
    "     \n",
    "    out.write('Interp Height'+'\\t'+'Interp Pressure'+'\\t'+'Interp Temp'+'\\t'+\n",
    "              'Interp Dew'+'\\t'+'Interp Profile'+'\\t'+'Interp U'+'\\t'+'Interp V'+\n",
    "              '\\t'+'Interp Wind Speed'+'\\n')\n",
    "    \n",
    "    for i in range(0,len(new_h)):\n",
    "        out.write(str((new_h[i].astype('float64')))+'\\t'+str((ppinterp[i].astype('float64')))+\n",
    "                  '\\t'+str((tinterp[i].astype('float64')))+'\\t'+str((tdinterp[i].astype('float64')))\n",
    "                  +'\\t'+str((printerp[i].astype('float64')))+'\\t'+str((uuinterp[i].astype('float64')))+\n",
    "                  '\\t'+str(vvinterp[i])+'\\t'+str(wsinterp[i])+'\\n')\n",
    "    out.close()\n",
    "        "
   ]
  },
  {
   "cell_type": "code",
   "execution_count": null,
   "metadata": {},
   "outputs": [],
   "source": []
  },
  {
   "cell_type": "code",
   "execution_count": 424,
   "metadata": {},
   "outputs": [],
   "source": [
    "#Outbreak: RLX Storm 1\n",
    "\n",
    "up=pd.read_csv(r'/Users/sarahpurpura/Desktop/Thesis/Soundings/Interpolate/Outbreak/Non-Crosser/RLX Storm 1/Storm 1 - Up.csv')\n",
    "out_up=open(r'/Users/sarahpurpura/Desktop/Thesis/Soundings/Interpolate/Outbreak/Non-Crosser/RLX Storm 1/Storm 1_up.csv','w')\n",
    "interp(up,out_up)\n",
    "\n",
    "#peak=pd.read_csv(r'/Users/sarahpurpura/Desktop/Thesis/Soundings/Interpolate/Outbreak/Non-Crosser/RLX Storm 1/Storm 1 - Peak.csv')\n",
    "#out_peak=open(r'/Users/sarahpurpura/Desktop/Thesis/Soundings/Interpolate/Outbreak/Non-Crosser/RLX Storm 1/Storm 1_peak.csv','w')\n",
    "#interp(peak,out_peak)\n",
    "\n",
    "#down=pd.read_csv(r'/Users/sarahpurpura/Desktop/Thesis/Soundings/Interpolate/Outbreak/Non-Crosser/RLX Storm 1/Storm 1 - Down.csv')\n",
    "#out_down=open(r'/Users/sarahpurpura/Desktop/Thesis/Soundings/Interpolate/Outbreak/Non-Crosser/RLX Storm 1/Storm 1_down.csv','w')\n",
    "#interp(down,out_down)"
   ]
  },
  {
   "cell_type": "code",
   "execution_count": 421,
   "metadata": {},
   "outputs": [],
   "source": [
    "#Outbreak: MRX Storm 4\n",
    "\n",
    "#up=pd.read_csv(r'/Users/sarahpurpura/Desktop/Thesis/Soundings/Interpolate/Outbreak/Non-Crosser/MRX Storm 4/Storm 4 - Up.csv')\n",
    "#out_up=open(r'/Users/sarahpurpura/Desktop/Thesis/Soundings/Interpolate/Outbreak/Non-Crosser/MRX Storm 4/Storm 4_up.csv','w')\n",
    "#interp(up,out_up)\n",
    "\n",
    "#peak=pd.read_csv(r'/Users/sarahpurpura/Desktop/Thesis/Soundings/Interpolate/Outbreak/Non-Crosser/MRX Storm 4/Storm 4 - Peak.csv')\n",
    "#out_peak=open(r'/Users/sarahpurpura/Desktop/Thesis/Soundings/Interpolate/Outbreak/Non-Crosser/MRX Storm 4/Storm 4_peak.csv','w')\n",
    "#interp(peak,out_peak)\n",
    "\n",
    "down=pd.read_csv(r'/Users/sarahpurpura/Desktop/Thesis/Soundings/Interpolate/Outbreak/Non-Crosser/MRX Storm 4/Storm 4 - Down.csv')\n",
    "out_down=open(r'/Users/sarahpurpura/Desktop/Thesis/Soundings/Interpolate/Outbreak/Non-Crosser/MRX Storm 4/Storm 4_down.csv','w')\n",
    "interp(down,out_down)"
   ]
  },
  {
   "cell_type": "code",
   "execution_count": 418,
   "metadata": {},
   "outputs": [],
   "source": [
    "#Outbreak: MRX Storm 3\n",
    "\n",
    "up=pd.read_csv(r'/Users/sarahpurpura/Desktop/Thesis/Soundings/Interpolate/Outbreak/Non-Crosser/MRX Storm 3/Storm 3 - Up.csv')\n",
    "out_up=open(r'/Users/sarahpurpura/Desktop/Thesis/Soundings/Interpolate/Outbreak/Non-Crosser/MRX Storm 3/Storm 3_up.csv','w')\n",
    "interp(up,out_up)\n",
    "\n",
    "#peak=pd.read_csv(r'/Users/sarahpurpura/Desktop/Thesis/Soundings/Interpolate/Outbreak/Non-Crosser/MRX Storm 3/Storm 3 - Peak.csv')\n",
    "#out_peak=open(r'/Users/sarahpurpura/Desktop/Thesis/Soundings/Interpolate/Outbreak/Non-Crosser/MRX Storm 3/Storm 3_peak.csv','w')\n",
    "#interp(peak,out_peak)\n",
    "\n",
    "#down=pd.read_csv(r'/Users/sarahpurpura/Desktop/Thesis/Soundings/Interpolate/Outbreak/Non-Crosser/MRX Storm 3/Storm 3 - Down.csv')\n",
    "#out_down=open(r'/Users/sarahpurpura/Desktop/Thesis/Soundings/Interpolate/Outbreak/Non-Crosser/MRX Storm 3/Storm 3_down.csv','w')\n",
    "#interp(down,out_down)"
   ]
  },
  {
   "cell_type": "code",
   "execution_count": 415,
   "metadata": {},
   "outputs": [],
   "source": [
    "#Outbreak: MRX Storm 10\n",
    "\n",
    "#up=pd.read_csv(r'/Users/sarahpurpura/Desktop/Thesis/Soundings/Interpolate/Outbreak/Crossers/MRX Storm 10/Storm 10 - Up.csv')\n",
    "#out_up=open(r'/Users/sarahpurpura/Desktop/Thesis/Soundings/Interpolate/Outbreak/Crossers/MRX Storm 10/Storm 10_up.csv','w')\n",
    "#interp(up,out_up)\n",
    "\n",
    "#peak=pd.read_csv(r'/Users/sarahpurpura/Desktop/Thesis/Soundings/Interpolate/Outbreak/Crossers/MRX Storm 10/Storm 10 - Peak.csv')\n",
    "#out_peak=open(r'/Users/sarahpurpura/Desktop/Thesis/Soundings/Interpolate/Outbreak/Crossers/MRX Storm 10/Storm 10_peak.csv','w')\n",
    "#interp(peak,out_peak)\n",
    "\n",
    "down=pd.read_csv(r'/Users/sarahpurpura/Desktop/Thesis/Soundings/Interpolate/Outbreak/Crossers/MRX Storm 10/Storm 10 - Down.csv')\n",
    "out_down=open(r'/Users/sarahpurpura/Desktop/Thesis/Soundings/Interpolate/Outbreak/Crossers/MRX Storm 10/Storm 10_down.csv','w')\n",
    "interp(down,out_down)"
   ]
  },
  {
   "cell_type": "code",
   "execution_count": 412,
   "metadata": {},
   "outputs": [],
   "source": [
    "#Outbreak: MRX Storm 9\n",
    "\n",
    "up=pd.read_csv(r'/Users/sarahpurpura/Desktop/Thesis/Soundings/Interpolate/Outbreak/Crossers/MRX Storm 9/Storm 9 - Up.csv')\n",
    "out_up=open(r'/Users/sarahpurpura/Desktop/Thesis/Soundings/Interpolate/Outbreak/Crossers/MRX Storm 9/Storm 9_up.csv','w')\n",
    "interp(up,out_up)\n",
    "\n",
    "#peak=pd.read_csv(r'/Users/sarahpurpura/Desktop/Thesis/Soundings/Interpolate/Outbreak/Crossers/MRX Storm 9/Storm 9 - Peak.csv')\n",
    "#out_peak=open(r'/Users/sarahpurpura/Desktop/Thesis/Soundings/Interpolate/Outbreak/Crossers/MRX Storm 9/Storm 9_peak.csv','w')\n",
    "#interp(peak,out_peak)\n",
    "\n",
    "#down=pd.read_csv(r'/Users/sarahpurpura/Desktop/Thesis/Soundings/Interpolate/Outbreak/Crossers/MRX Storm 9/Storm 9 - Down.csv')\n",
    "#out_down=open(r'/Users/sarahpurpura/Desktop/Thesis/Soundings/Interpolate/Outbreak/Crossers/MRX Storm 9/Storm 9_down.csv','w')\n",
    "#interp(down,out_down)"
   ]
  },
  {
   "cell_type": "code",
   "execution_count": 409,
   "metadata": {},
   "outputs": [],
   "source": [
    "#Outbreak: MRX Storm 8\n",
    "\n",
    "#up=pd.read_csv(r'/Users/sarahpurpura/Desktop/Thesis/Soundings/Interpolate/Outbreak/Crossers/MRX Storm 8/Storm 8 - Up.csv')\n",
    "#out_up=open(r'/Users/sarahpurpura/Desktop/Thesis/Soundings/Interpolate/Outbreak/Crossers/MRX Storm 8/Storm 8_up.csv','w')\n",
    "#interp(up,out_up)\n",
    "\n",
    "#peak=pd.read_csv(r'/Users/sarahpurpura/Desktop/Thesis/Soundings/Interpolate/Outbreak/Crossers/MRX Storm 8/Storm 8 - Peak.csv')\n",
    "#out_peak=open(r'/Users/sarahpurpura/Desktop/Thesis/Soundings/Interpolate/Outbreak/Crossers/MRX Storm 8/Storm 8_peak.csv','w')\n",
    "#interp(peak,out_peak)\n",
    "\n",
    "down=pd.read_csv(r'/Users/sarahpurpura/Desktop/Thesis/Soundings/Interpolate/Outbreak/Crossers/MRX Storm 8/Storm 8 - Down.csv')\n",
    "out_down=open(r'/Users/sarahpurpura/Desktop/Thesis/Soundings/Interpolate/Outbreak/Crossers/MRX Storm 8/Storm 8_down.csv','w')\n",
    "interp(down,out_down)"
   ]
  },
  {
   "cell_type": "code",
   "execution_count": 406,
   "metadata": {},
   "outputs": [],
   "source": [
    "#Outbreak: MRX Storm 6\n",
    "\n",
    "up=pd.read_csv(r'/Users/sarahpurpura/Desktop/Thesis/Soundings/Interpolate/Outbreak/Crossers/MRX Storm 6/Storm 6 - Up.csv')\n",
    "out_up=open(r'/Users/sarahpurpura/Desktop/Thesis/Soundings/Interpolate/Outbreak/Crossers/MRX Storm 6/Storm 6_up.csv','w')\n",
    "interp(up,out_up)\n",
    "\n",
    "#peak=pd.read_csv(r'/Users/sarahpurpura/Desktop/Thesis/Soundings/Interpolate/Outbreak/Crossers/MRX Storm 6/Storm 6 - Peak.csv')\n",
    "#out_peak=open(r'/Users/sarahpurpura/Desktop/Thesis/Soundings/Interpolate/Outbreak/Crossers/MRX Storm 6/Storm 6_peak.csv','w')\n",
    "#interp(peak,out_peak)\n",
    "\n",
    "#down=pd.read_csv(r'/Users/sarahpurpura/Desktop/Thesis/Soundings/Interpolate/Outbreak/Crossers/MRX Storm 6/Storm 6 - Down.csv')\n",
    "#out_down=open(r'/Users/sarahpurpura/Desktop/Thesis/Soundings/Interpolate/Outbreak/Crossers/MRX Storm 6/Storm 6_down.csv','w')\n",
    "#interp(down,out_down)"
   ]
  },
  {
   "cell_type": "code",
   "execution_count": 403,
   "metadata": {},
   "outputs": [],
   "source": [
    "#Outbreak: GSP Tallah Falls\n",
    "\n",
    "#up=pd.read_csv(r'/Users/sarahpurpura/Desktop/Thesis/Soundings/Interpolate/Outbreak/Crossers/GSP Tallah Falls/Tallah Falls - Up.csv')\n",
    "#out_up=open(r'/Users/sarahpurpura/Desktop/Thesis/Soundings/Interpolate/Outbreak/Crossers/GSP Tallah Falls/Tallah Falls_up.csv','w')\n",
    "#interp(up,out_up)\n",
    "\n",
    "#peak=pd.read_csv(r'/Users/sarahpurpura/Desktop/Thesis/Soundings/Interpolate/Outbreak/Crossers/GSP Tallah Falls/Tallah Falls - Peak.csv')\n",
    "#out_peak=open(r'/Users/sarahpurpura/Desktop/Thesis/Soundings/Interpolate/Outbreak/Crossers/GSP Tallah Falls/Tallah Falls_peak.csv','w')\n",
    "#interp(peak,out_peak)\n",
    "\n",
    "down=pd.read_csv(r'/Users/sarahpurpura/Desktop/Thesis/Soundings/Interpolate/Outbreak/Crossers/GSP Tallah Falls/Tallah Falls - Down.csv')\n",
    "out_down=open(r'/Users/sarahpurpura/Desktop/Thesis/Soundings/Interpolate/Outbreak/Crossers/GSP Tallah Falls/Tallah Falls_down.csv','w')\n",
    "interp(down,out_down)"
   ]
  },
  {
   "cell_type": "code",
   "execution_count": 400,
   "metadata": {},
   "outputs": [],
   "source": [
    "#Outbreak: FFC Jacksonville\n",
    "\n",
    "up=pd.read_csv(r'/Users/sarahpurpura/Desktop/Thesis/Soundings/Interpolate/Outbreak/Crossers/FFC Jacksonville/Jacksonville - Up.csv')\n",
    "out_up=open(r'/Users/sarahpurpura/Desktop/Thesis/Soundings/Interpolate/Outbreak/Crossers/FFC Jacksonville/Jacksonville_up.csv','w')\n",
    "interp(up,out_up)\n",
    "\n",
    "#peak=pd.read_csv(r'/Users/sarahpurpura/Desktop/Thesis/Soundings/Interpolate/Outbreak/Crossers/FFC Jacksonville/Jacksonville - Peak.csv')\n",
    "#out_peak=open(r'/Users/sarahpurpura/Desktop/Thesis/Soundings/Interpolate/Outbreak/Crossers/FFC Jacksonville/Jacksonville_peak.csv','w')\n",
    "#interp(peak,out_peak)\n",
    "\n",
    "#down=pd.read_csv(r'/Users/sarahpurpura/Desktop/Thesis/Soundings/Interpolate/Outbreak/Crossers/FFC Jacksonville/Jacksonville - Down.csv')\n",
    "#out_down=open(r'/Users/sarahpurpura/Desktop/Thesis/Soundings/Interpolate/Outbreak/Crossers/FFC Jacksonville/Jacksonville_down.csv','w')\n",
    "#interp(down,out_down)"
   ]
  },
  {
   "cell_type": "code",
   "execution_count": 397,
   "metadata": {},
   "outputs": [],
   "source": [
    "#Outbreak: FFC Gasden\n",
    "\n",
    "#up=pd.read_csv(r'/Users/sarahpurpura/Desktop/Thesis/Soundings/Interpolate/Outbreak/Crossers/FFC Gasden/Gasden - Up.csv')\n",
    "#out_up=open(r'/Users/sarahpurpura/Desktop/Thesis/Soundings/Interpolate/Outbreak/Crossers/FFC Gasden/Gasden_up.csv','w')\n",
    "#interp(up,out_up)\n",
    "\n",
    "#peak=pd.read_csv(r'/Users/sarahpurpura/Desktop/Thesis/Soundings/Interpolate/Outbreak/Crossers/FFC Gasden/Gasden - Peak.csv')\n",
    "#out_peak=open(r'/Users/sarahpurpura/Desktop/Thesis/Soundings/Interpolate/Outbreak/Crossers/FFC Gasden/Gasden_peak.csv','w')\n",
    "#interp(peak,out_peak)\n",
    "\n",
    "down=pd.read_csv(r'/Users/sarahpurpura/Desktop/Thesis/Soundings/Interpolate/Outbreak/Crossers/FFC Gasden/Gasden - Down.csv')\n",
    "out_down=open(r'/Users/sarahpurpura/Desktop/Thesis/Soundings/Interpolate/Outbreak/Crossers/FFC Gasden/Gasden_down.csv','w')\n",
    "interp(down,out_down)"
   ]
  },
  {
   "cell_type": "code",
   "execution_count": 394,
   "metadata": {},
   "outputs": [],
   "source": [
    "#Outbreak: FCX Storm 6\n",
    "\n",
    "up=pd.read_csv(r'/Users/sarahpurpura/Desktop/Thesis/Soundings/Interpolate/Outbreak/Crossers/FCX Storm 6/Storm 6 - Up.csv')\n",
    "out_up=open(r'/Users/sarahpurpura/Desktop/Thesis/Soundings/Interpolate/Outbreak/Crossers/FCX Storm 6/Storm 6_up.csv','w')\n",
    "interp(up,out_up)\n",
    "\n",
    "#peak=pd.read_csv(r'/Users/sarahpurpura/Desktop/Thesis/Soundings/Interpolate/Outbreak/Crossers/FCX Storm 6/Storm 6 - Peak.csv')\n",
    "#out_peak=open(r'/Users/sarahpurpura/Desktop/Thesis/Soundings/Interpolate/Outbreak/Crossers/FCX Storm 6/Storm 6_peak.csv','w')\n",
    "#interp(peak,out_peak)\n",
    "\n",
    "#down=pd.read_csv(r'/Users/sarahpurpura/Desktop/Thesis/Soundings/Interpolate/Outbreak/Crossers/FCX Storm 6/Storm 6 - Down.csv')\n",
    "#out_down=open(r'/Users/sarahpurpura/Desktop/Thesis/Soundings/Interpolate/Outbreak/Crossers/FCX Storm 6/Storm 6_down.csv','w')\n",
    "#interp(down,out_down)"
   ]
  },
  {
   "cell_type": "code",
   "execution_count": 390,
   "metadata": {},
   "outputs": [],
   "source": [
    "#Outbreak: FCX Storm 3\n",
    "\n",
    "#up=pd.read_csv(r'/Users/sarahpurpura/Desktop/Thesis/Soundings/Interpolate/Outbreak/Crossers/FCX Storm 3/Storm 3 - Up.csv')\n",
    "#out_up=open(r'/Users/sarahpurpura/Desktop/Thesis/Soundings/Interpolate/Outbreak/Crossers/FCX Storm 3/Storm 3_up.csv','w')\n",
    "#interp(up,out_up)\n",
    "\n",
    "#peak=pd.read_csv(r'/Users/sarahpurpura/Desktop/Thesis/Soundings/Interpolate/Outbreak/Crossers/FCX Storm 3/Storm 3 - Peak.csv')\n",
    "#out_peak=open(r'/Users/sarahpurpura/Desktop/Thesis/Soundings/Interpolate/Outbreak/Crossers/FCX Storm 3/Storm 3_peak.csv','w')\n",
    "#interp(peak,out_peak)\n",
    "\n",
    "down=pd.read_csv(r'/Users/sarahpurpura/Desktop/Thesis/Soundings/Interpolate/Outbreak/Crossers/FCX Storm 3/Storm 3 - Down.csv')\n",
    "out_down=open(r'/Users/sarahpurpura/Desktop/Thesis/Soundings/Interpolate/Outbreak/Crossers/FCX Storm 3/Storm 3_down.csv','w')\n",
    "interp(down,out_down)"
   ]
  },
  {
   "cell_type": "code",
   "execution_count": 385,
   "metadata": {},
   "outputs": [],
   "source": [
    "#RLX Storm 1\n",
    "\n",
    "up=pd.read_csv(r'/Users/sarahpurpura/Desktop/Thesis/Soundings/Interpolate/RLX/Non/Storm 1/Storm 1 - Up.csv')\n",
    "out_up=open(r'/Users/sarahpurpura/Desktop/Thesis/Soundings/Interpolate/RLX/Non/Storm 1/Storm 1_up.csv','w')\n",
    "interp(up,out_up)\n",
    "\n",
    "#peak=pd.read_csv(r'/Users/sarahpurpura/Desktop/Thesis/Soundings/Interpolate/RLX/Non/Storm 1/Storm 1 - Peak.csv')\n",
    "#out_peak=open(r'/Users/sarahpurpura/Desktop/Thesis/Soundings/Interpolate/RLX/Non/Storm 1/Storm 1_peak.csv','w')\n",
    "#interp(peak,out_peak)\n",
    "\n",
    "#down=pd.read_csv(r'/Users/sarahpurpura/Desktop/Thesis/Soundings/Interpolate/RLX/Non/Storm 1/Storm 1 - Down.csv')\n",
    "#out_down=open(r'/Users/sarahpurpura/Desktop/Thesis/Soundings/Interpolate/RLX/Non/Storm 1/Storm 1_down.csv','w')\n",
    "#interp(down,out_down)"
   ]
  },
  {
   "cell_type": "code",
   "execution_count": 382,
   "metadata": {},
   "outputs": [],
   "source": [
    "#RLX Point Pleasant\n",
    "\n",
    "#up=pd.read_csv(r'/Users/sarahpurpura/Desktop/Thesis/Soundings/Interpolate/RLX/Non/Point Pleasant/Point Pleasant - Up.csv')\n",
    "#out_up=open(r'/Users/sarahpurpura/Desktop/Thesis/Soundings/Interpolate/RLX/Non/Point Pleasant/Point Pleasant_up.csv','w')\n",
    "#interp(up,out_up)\n",
    "\n",
    "#peak=pd.read_csv(r'/Users/sarahpurpura/Desktop/Thesis/Soundings/Interpolate/RLX/Non/Point Pleasant/Point Pleasant - Peak.csv')\n",
    "#out_peak=open(r'/Users/sarahpurpura/Desktop/Thesis/Soundings/Interpolate/RLX/Non/Point Pleasant/Point Pleasant_peak.csv','w')\n",
    "#interp(peak,out_peak)\n",
    "\n",
    "down=pd.read_csv(r'/Users/sarahpurpura/Desktop/Thesis/Soundings/Interpolate/RLX/Non/Point Pleasant/Point Pleasant - Down.csv')\n",
    "out_down=open(r'/Users/sarahpurpura/Desktop/Thesis/Soundings/Interpolate/RLX/Non/Point Pleasant/Point Pleasant_down.csv','w')\n",
    "interp(down,out_down)"
   ]
  },
  {
   "cell_type": "code",
   "execution_count": 379,
   "metadata": {},
   "outputs": [],
   "source": [
    "#RLX Hindman\n",
    "\n",
    "up=pd.read_csv(r'/Users/sarahpurpura/Desktop/Thesis/Soundings/Interpolate/RLX/Non/Hindman/Hindman - Up.csv')\n",
    "out_up=open(r'/Users/sarahpurpura/Desktop/Thesis/Soundings/Interpolate/RLX/Non/Hindman/Hindman_up.csv','w')\n",
    "interp(up,out_up)\n",
    "\n",
    "#peak=pd.read_csv(r'/Users/sarahpurpura/Desktop/Thesis/Soundings/Interpolate/RLX/Non/Hindman/Hindman - Peak.csv')\n",
    "#out_peak=open(r'/Users/sarahpurpura/Desktop/Thesis/Soundings/Interpolate/RLX/Non/Hindman/Hindman_peak.csv','w')\n",
    "#interp(peak,out_peak)\n",
    "\n",
    "#down=pd.read_csv(r'/Users/sarahpurpura/Desktop/Thesis/Soundings/Interpolate/RLX/Non/Hindman/Hindman - Down.csv')\n",
    "#out_down=open(r'/Users/sarahpurpura/Desktop/Thesis/Soundings/Interpolate/RLX/Non/Hindman/Hindman_down.csv','w')\n",
    "#interp(down,out_down)"
   ]
  },
  {
   "cell_type": "code",
   "execution_count": 376,
   "metadata": {},
   "outputs": [],
   "source": [
    "#RLX Flemingsburg\n",
    "\n",
    "#up=pd.read_csv(r'/Users/sarahpurpura/Desktop/Thesis/Soundings/Interpolate/RLX/Non/Flemingsburg/Flemingsburg - Up.csv')\n",
    "#out_up=open(r'/Users/sarahpurpura/Desktop/Thesis/Soundings/Interpolate/RLX/Non/Flemingsburg/Flemingsburg_up.csv','w')\n",
    "#interp(up,out_up)\n",
    "\n",
    "#peak=pd.read_csv(r'/Users/sarahpurpura/Desktop/Thesis/Soundings/Interpolate/RLX/Non/Flemingsburg/Flemingsburg - Peak.csv')\n",
    "#out_peak=open(r'/Users/sarahpurpura/Desktop/Thesis/Soundings/Interpolate/RLX/Non/Flemingsburg/Flemingsburg_peak.csv','w')\n",
    "#interp(peak,out_peak)\n",
    "\n",
    "down=pd.read_csv(r'/Users/sarahpurpura/Desktop/Thesis/Soundings/Interpolate/RLX/Non/Flemingsburg/Flemingsburg - Down.csv')\n",
    "out_down=open(r'/Users/sarahpurpura/Desktop/Thesis/Soundings/Interpolate/RLX/Non/Flemingsburg/Flemingsburg_down.csv','w')\n",
    "interp(down,out_down)"
   ]
  },
  {
   "cell_type": "code",
   "execution_count": 372,
   "metadata": {},
   "outputs": [],
   "source": [
    "#RLX Circleville\n",
    "\n",
    "up=pd.read_csv(r'/Users/sarahpurpura/Desktop/Thesis/Soundings/Interpolate/RLX/Non/Circleville/Circleville - Up.csv')\n",
    "out_up=open(r'/Users/sarahpurpura/Desktop/Thesis/Soundings/Interpolate/RLX/Non/Circleville/Circlevillee_up.csv','w')\n",
    "interp(up,out_up)\n",
    "\n",
    "#peak=pd.read_csv(r'/Users/sarahpurpura/Desktop/Thesis/Soundings/Interpolate/RLX/Non/Circleville/Circleville - Peak.csv')\n",
    "#out_peak=open(r'/Users/sarahpurpura/Desktop/Thesis/Soundings/Interpolate/RLX/Non/Circleville/Circleville_peak.csv','w')\n",
    "#interp(peak,out_peak)\n",
    "\n",
    "#down=pd.read_csv(r'/Users/sarahpurpura/Desktop/Thesis/Soundings/Interpolate/RLX/Non/Circleville/Circleville - Down.csv')\n",
    "#out_down=open(r'/Users/sarahpurpura/Desktop/Thesis/Soundings/Interpolate/RLX/Non/Circleville/Circleville_down.csv','w')\n",
    "#interp(down,out_down)"
   ]
  },
  {
   "cell_type": "code",
   "execution_count": 368,
   "metadata": {},
   "outputs": [],
   "source": [
    "#RLX Cherokee\n",
    "\n",
    "#up=pd.read_csv(r'/Users/sarahpurpura/Desktop/Thesis/Soundings/Interpolate/RLX/Non/Cherokee/Cherokee - Up.csv')\n",
    "#out_up=open(r'/Users/sarahpurpura/Desktop/Thesis/Soundings/Interpolate/RLX/Non/Cherokee/Cherokee_up.csv','w')\n",
    "#interp(up,out_up)\n",
    "\n",
    "#peak=pd.read_csv(r'/Users/sarahpurpura/Desktop/Thesis/Soundings/Interpolate/RLX/Non/Cherokee/Cherokee - Peak.csv')\n",
    "#out_peak=open(r'/Users/sarahpurpura/Desktop/Thesis/Soundings/Interpolate/RLX/Non/Cherokee/Cherokee_peak.csv','w')\n",
    "#interp(peak,out_peak)\n",
    "\n",
    "down=pd.read_csv(r'/Users/sarahpurpura/Desktop/Thesis/Soundings/Interpolate/RLX/Non/Cherokee/Cherokee - Down.csv')\n",
    "out_down=open(r'/Users/sarahpurpura/Desktop/Thesis/Soundings/Interpolate/RLX/Non/Cherokee/Cherokee_down.csv','w')\n",
    "interp(down,out_down)"
   ]
  },
  {
   "cell_type": "code",
   "execution_count": 365,
   "metadata": {},
   "outputs": [],
   "source": [
    "#RLX Campton\n",
    "\n",
    "up=pd.read_csv(r'/Users/sarahpurpura/Desktop/Thesis/Soundings/Interpolate/RLX/Non/Campton/Campton - Up.csv')\n",
    "out_up=open(r'/Users/sarahpurpura/Desktop/Thesis/Soundings/Interpolate/RLX/Non/Campton/Campton_up.csv','w')\n",
    "interp(up,out_up)\n",
    "\n",
    "#peak=pd.read_csv(r'/Users/sarahpurpura/Desktop/Thesis/Soundings/Interpolate/RLX/Non/Campton/Campton - Peak.csv')\n",
    "#out_peak=open(r'/Users/sarahpurpura/Desktop/Thesis/Soundings/Interpolate/RLX/Non/Campton/Campton_peak.csv','w')\n",
    "#interp(peak,out_peak)\n",
    "\n",
    "#down=pd.read_csv(r'/Users/sarahpurpura/Desktop/Thesis/Soundings/Interpolate/RLX/Non/Campton/Campton - Down.csv')\n",
    "#out_down=open(r'/Users/sarahpurpura/Desktop/Thesis/Soundings/Interpolate/RLX/Non/Campton/Campton_down.csv','w')\n",
    "#interp(down,out_down)"
   ]
  },
  {
   "cell_type": "code",
   "execution_count": 356,
   "metadata": {},
   "outputs": [],
   "source": [
    "#RLX York\n",
    "\n",
    "#up=pd.read_csv(r'/Users/sarahpurpura/Desktop/Thesis/Soundings/Interpolate/RLX/Non/York/York - Up.csv')\n",
    "#out_up=open(r'/Users/sarahpurpura/Desktop/Thesis/Soundings/Interpolate/RLX/Non/York/York_up.csv','w')\n",
    "#interp(up,out_up)\n",
    "\n",
    "#peak=pd.read_csv(r'/Users/sarahpurpura/Desktop/Thesis/Soundings/Interpolate/RLX/Non/York/York - Peak.csv')\n",
    "#out_peak=open(r'/Users/sarahpurpura/Desktop/Thesis/Soundings/Interpolate/RLX/Non/York/York_peak.csv','w')\n",
    "#interp(peak,out_peak)\n",
    "\n",
    "down=pd.read_csv(r'/Users/sarahpurpura/Desktop/Thesis/Soundings/Interpolate/RLX/Non/York/York - Down.csv')\n",
    "out_down=open(r'/Users/sarahpurpura/Desktop/Thesis/Soundings/Interpolate/RLX/Non/York/York_down.csv','w')\n",
    "interp(down,out_down)"
   ]
  },
  {
   "cell_type": "code",
   "execution_count": 362,
   "metadata": {},
   "outputs": [],
   "source": [
    "#RLX Jackson\n",
    "\n",
    "#up=pd.read_csv(r'/Users/sarahpurpura/Desktop/Thesis/Soundings/Interpolate/RLX/Non/Jackson/Jackson  - Up.csv')\n",
    "#out_up=open(r'/Users/sarahpurpura/Desktop/Thesis/Soundings/Interpolate/RLX/Non/Jackson/Jackson_up.csv','w')\n",
    "#interp(up,out_up)\n",
    "\n",
    "#peak=pd.read_csv(r'/Users/sarahpurpura/Desktop/Thesis/Soundings/Interpolate/RLX/Non/Jackson/Jackson  - Peak.csv')\n",
    "#out_peak=open(r'/Users/sarahpurpura/Desktop/Thesis/Soundings/Interpolate/RLX/Non/Jackson/Jackson_peak.csv','w')\n",
    "#interp(peak,out_peak)\n",
    "\n",
    "down=pd.read_csv(r'/Users/sarahpurpura/Desktop/Thesis/Soundings/Interpolate/RLX/Non/Jackson/Jackson  - Down.csv')\n",
    "out_down=open(r'/Users/sarahpurpura/Desktop/Thesis/Soundings/Interpolate/RLX/Non/Jackson/Jackson_down.csv','w')\n",
    "interp(down,out_down)"
   ]
  },
  {
   "cell_type": "code",
   "execution_count": 345,
   "metadata": {},
   "outputs": [],
   "source": [
    "#RLX Greenup\n",
    "\n",
    "#up=pd.read_csv(r'/Users/sarahpurpura/Desktop/Thesis/Soundings/Interpolate/RLX/Cross/Greenup/Greenup - Up.csv')\n",
    "#out_up=open(r'/Users/sarahpurpura/Desktop/Thesis/Soundings/Interpolate/RLX/Cross/Greenup/Greenup_up.csv','w')\n",
    "#interp(up,out_up)\n",
    "\n",
    "#peak=pd.read_csv(r'/Users/sarahpurpura/Desktop/Thesis/Soundings/Interpolate/RLX/Cross/Greenup/Greenup - Peak.csv')\n",
    "#out_peak=open(r'/Users/sarahpurpura/Desktop/Thesis/Soundings/Interpolate/RLX/Cross/Greenup/Greenup_peak.csv','w')\n",
    "#interp(peak,out_peak)\n",
    "\n",
    "down=pd.read_csv(r'/Users/sarahpurpura/Desktop/Thesis/Soundings/Interpolate/RLX/Cross/Greenup/Greenup - Down.csv')\n",
    "out_down=open(r'/Users/sarahpurpura/Desktop/Thesis/Soundings/Interpolate/RLX/Cross/Greenup/Greenup_down.csv','w')\n",
    "interp(down,out_down)"
   ]
  },
  {
   "cell_type": "code",
   "execution_count": 341,
   "metadata": {},
   "outputs": [],
   "source": [
    "#RLX Chester\n",
    "\n",
    "up=pd.read_csv(r'/Users/sarahpurpura/Desktop/Thesis/Soundings/Interpolate/RLX/Cross/Chester/Chester - Up.csv')\n",
    "out_up=open(r'/Users/sarahpurpura/Desktop/Thesis/Soundings/Interpolate/RLX/Cross/Chester/Chester_up.csv','w')\n",
    "interp(up,out_up)\n",
    "\n",
    "#peak=pd.read_csv(r'/Users/sarahpurpura/Desktop/Thesis/Soundings/Interpolate/RLX/Cross/Chester/Chester - Peak.csv')\n",
    "#out_peak=open(r'/Users/sarahpurpura/Desktop/Thesis/Soundings/Interpolate/RLX/Cross/Chester/Chester_peak.csv','w')\n",
    "#interp(peak,out_peak)\n",
    "\n",
    "#down=pd.read_csv(r'/Users/sarahpurpura/Desktop/Thesis/Soundings/Interpolate/RLX/Cross/Chester/Chester - Down.csv')\n",
    "#out_down=open(r'/Users/sarahpurpura/Desktop/Thesis/Soundings/Interpolate/RLX/Cross/Chester/Chester_down.csv','w')\n",
    "#interp(down,out_down)"
   ]
  },
  {
   "cell_type": "code",
   "execution_count": 337,
   "metadata": {},
   "outputs": [],
   "source": [
    "#MRX Sparta\n",
    "\n",
    "#up=pd.read_csv(r'/Users/sarahpurpura/Desktop/Thesis/Soundings/Interpolate/MRX/Crosser/Sparta/Sparta - Up.csv')\n",
    "#out_up=open(r'/Users/sarahpurpura/Desktop/Thesis/Soundings/Interpolate/MRX/Crosser/Sparta/Sparta_up.csv','w')\n",
    "#interp(up,out_up)\n",
    "\n",
    "#peak=pd.read_csv(r'/Users/sarahpurpura/Desktop/Thesis/Soundings/Interpolate/MRX/Crosser/Sparta/Sparta - Peak.csv')\n",
    "#out_peak=open(r'/Users/sarahpurpura/Desktop/Thesis/Soundings/Interpolate/MRX/Crosser/Sparta/Sparta_peak.csv','w')\n",
    "#interp(peak,out_peak)\n",
    "\n",
    "down=pd.read_csv(r'/Users/sarahpurpura/Desktop/Thesis/Soundings/Interpolate/MRX/Crosser/Sparta/Sparta - Down.csv')\n",
    "out_down=open(r'/Users/sarahpurpura/Desktop/Thesis/Soundings/Interpolate/MRX/Crosser/Sparta/Sparta_down.csv','w')\n",
    "interp(down,out_down)"
   ]
  },
  {
   "cell_type": "code",
   "execution_count": 331,
   "metadata": {},
   "outputs": [],
   "source": [
    "#MRX Jamestown\n",
    "\n",
    "#up=pd.read_csv(r'/Users/sarahpurpura/Desktop/Thesis/Soundings/Interpolate/MRX/Crosser/Jamestown/Jamestown - Up.csv')\n",
    "#out_up=open(r'/Users/sarahpurpura/Desktop/Thesis/Soundings/Interpolate/MRX/Crosser/Jamestown/Jamestown_up.csv','w')\n",
    "#interp(up,out_up)\n",
    "\n",
    "#peak=pd.read_csv(r'/Users/sarahpurpura/Desktop/Thesis/Soundings/Interpolate/MRX/Crosser/Jamestown/Jamestown - Peak.csv')\n",
    "#out_peak=open(r'/Users/sarahpurpura/Desktop/Thesis/Soundings/Interpolate/MRX/Crosser/Jamestown/Jamestown_peak.csv','w')\n",
    "#interp(peak,out_peak)\n",
    "\n",
    "down=pd.read_csv(r'/Users/sarahpurpura/Desktop/Thesis/Soundings/Interpolate/MRX/Crosser/Jamestown/Jamestown - Down.csv')\n",
    "out_down=open(r'/Users/sarahpurpura/Desktop/Thesis/Soundings/Interpolate/MRX/Crosser/Jamestown/Jamestown_down.csv','w')\n",
    "interp(down,out_down)"
   ]
  },
  {
   "cell_type": "code",
   "execution_count": 328,
   "metadata": {},
   "outputs": [],
   "source": [
    "#MRX Hopewell\n",
    "\n",
    "up=pd.read_csv(r'/Users/sarahpurpura/Desktop/Thesis/Soundings/Interpolate/MRX/Crosser/Hopewell/Hopewell - Up.csv')\n",
    "out_up=open(r'/Users/sarahpurpura/Desktop/Thesis/Soundings/Interpolate/MRX/Crosser/Hopewell/Hopewell_up.csv','w')\n",
    "interp(up,out_up)\n",
    "\n",
    "#peak=pd.read_csv(r'/Users/sarahpurpura/Desktop/Thesis/Soundings/Interpolate/MRX/Crosser/Hopewell/Hopewell - Peak.csv')\n",
    "#out_peak=open(r'/Users/sarahpurpura/Desktop/Thesis/Soundings/Interpolate/MRX/Crosser/Hopewell/Hopewell_peak.csv','w')\n",
    "#interp(peak,out_peak)\n",
    "\n",
    "#down=pd.read_csv(r'/Users/sarahpurpura/Desktop/Thesis/Soundings/Interpolate/MRX/Crosser/Hopewell/Hopewell - Down.csv')\n",
    "#out_down=open(r'/Users/sarahpurpura/Desktop/Thesis/Soundings/Interpolate/MRX/Crosser/Hopewell/Hopewell_down.csv','w')\n",
    "#interp(down,out_down)"
   ]
  },
  {
   "cell_type": "code",
   "execution_count": 324,
   "metadata": {},
   "outputs": [
    {
     "name": "stdout",
     "output_type": "stream",
     "text": [
      "35\n",
      "151\n"
     ]
    }
   ],
   "source": [
    "#MRX Gainsboro\n",
    "\n",
    "#up=pd.read_csv(r'/Users/sarahpurpura/Desktop/Thesis/Soundings/Interpolate/MRX/Crosser/Gainsboro/Gainsboro - Up.csv')\n",
    "#out_up=open(r'/Users/sarahpurpura/Desktop/Thesis/Soundings/Interpolate/MRX/Crosser/Gainsboro/Gainsboro_up.csv','w')\n",
    "#interp(up,out_up)\n",
    "\n",
    "#peak=pd.read_csv(r'/Users/sarahpurpura/Desktop/Thesis/Soundings/Interpolate/MRX/Crosser/Gainsboro/Gainsboro - Peak.csv')\n",
    "#out_peak=open(r'/Users/sarahpurpura/Desktop/Thesis/Soundings/Interpolate/MRX/Crosser/Gainsboro/Gainsboro_peak.csv','w')\n",
    "#interp(peak,out_peak)\n",
    "\n",
    "down=pd.read_csv(r'/Users/sarahpurpura/Desktop/Thesis/Soundings/Interpolate/MRX/Crosser/Gainsboro/Gainsboro - Down.csv')\n",
    "out_down=open(r'/Users/sarahpurpura/Desktop/Thesis/Soundings/Interpolate/MRX/Crosser/Gainsboro/Gainsboro_down.csv','w')\n",
    "interp(down,out_down)"
   ]
  },
  {
   "cell_type": "code",
   "execution_count": 321,
   "metadata": {},
   "outputs": [
    {
     "name": "stdout",
     "output_type": "stream",
     "text": [
      "35\n",
      "151\n"
     ]
    }
   ],
   "source": [
    "#MRX Cumberland\n",
    "\n",
    "up=pd.read_csv(r'/Users/sarahpurpura/Desktop/Thesis/Soundings/Interpolate/MRX/Crosser/Cumberland/Cumberland - Up.csv')\n",
    "out_up=open(r'/Users/sarahpurpura/Desktop/Thesis/Soundings/Interpolate/MRX/Crosser/Cumberland/Cumberland_up.csv','w')\n",
    "interp(up,out_up)\n",
    "\n",
    "#peak=pd.read_csv(r'/Users/sarahpurpura/Desktop/Thesis/Soundings/Interpolate/MRX/Crosser/Cumberland/Cumberland - Peak.csv')\n",
    "#out_peak=open(r'/Users/sarahpurpura/Desktop/Thesis/Soundings/Interpolate/MRX/Crosser/Cumberland/Cumberland_peak.csv','w')\n",
    "#interp(peak,out_peak)\n",
    "\n",
    "#down=pd.read_csv(r'/Users/sarahpurpura/Desktop/Thesis/Soundings/Interpolate/MRX/Crosser/Cumberland/Cumberland - Down.csv')\n",
    "#out_down=open(r'/Users/sarahpurpura/Desktop/Thesis/Soundings/Interpolate/MRX/Crosser/Cumberland/Cumberland_down.csv','w')\n",
    "#interp(down,out_down)"
   ]
  },
  {
   "cell_type": "code",
   "execution_count": 318,
   "metadata": {},
   "outputs": [
    {
     "name": "stdout",
     "output_type": "stream",
     "text": [
      "34\n",
      "151\n"
     ]
    }
   ],
   "source": [
    "#MRX Bottom\n",
    "\n",
    "#up=pd.read_csv(r'/Users/sarahpurpura/Desktop/Thesis/Soundings/Interpolate/MRX/Crosser/Bottom/Bottom - Up.csv')\n",
    "#out_up=open(r'/Users/sarahpurpura/Desktop/Thesis/Soundings/Interpolate/MRX/Crosser/Bottom/Bottom_up.csv','w')\n",
    "#interp(up,out_up)\n",
    "\n",
    "#peak=pd.read_csv(r'/Users/sarahpurpura/Desktop/Thesis/Soundings/Interpolate/MRX/Crosser/Bottom/Bottom - Peak.csv')\n",
    "#out_peak=open(r'/Users/sarahpurpura/Desktop/Thesis/Soundings/Interpolate/MRX/Crosser/Bottom/Bottom_peak.csv','w')\n",
    "#interp(peak,out_peak)\n",
    "\n",
    "down=pd.read_csv(r'/Users/sarahpurpura/Desktop/Thesis/Soundings/Interpolate/MRX/Crosser/Bottom/Bottom - Down.csv')\n",
    "out_down=open(r'/Users/sarahpurpura/Desktop/Thesis/Soundings/Interpolate/MRX/Crosser/Bottom/Bottom_down.csv','w')\n",
    "interp(down,out_down)"
   ]
  },
  {
   "cell_type": "code",
   "execution_count": 315,
   "metadata": {},
   "outputs": [
    {
     "name": "stdout",
     "output_type": "stream",
     "text": [
      "35\n",
      "151\n"
     ]
    }
   ],
   "source": [
    "#JKL Storm 1\n",
    "\n",
    "up=pd.read_csv(r'/Users/sarahpurpura/Desktop/Thesis/Soundings/Interpolate/JKL/Non/Storm 1/Storm 1 - Up.csv')\n",
    "out_up=open(r'/Users/sarahpurpura/Desktop/Thesis/Soundings/Interpolate/JKL/Non/Storm 1/Storm 1_up.csv','w')\n",
    "interp(up,out_up)\n",
    "\n",
    "#peak=pd.read_csv(r'/Users/sarahpurpura/Desktop/Thesis/Soundings/Interpolate/JKL/Non/Storm 1/Storm 1 - Peak.csv')\n",
    "#out_peak=open(r'/Users/sarahpurpura/Desktop/Thesis/Soundings/Interpolate/JKL/Non/Storm 1/Storm 1_peak.csv','w')\n",
    "#interp(peak,out_peak)\n",
    "\n",
    "#down=pd.read_csv(r'/Users/sarahpurpura/Desktop/Thesis/Soundings/Interpolate/JKL/Non/Storm 1/Storm 1 - Down.csv')\n",
    "#out_down=open(r'/Users/sarahpurpura/Desktop/Thesis/Soundings/Interpolate/JKL/Non/Storm 1/Storm 1_down.csv','w')\n",
    "#interp(down,out_down)"
   ]
  },
  {
   "cell_type": "code",
   "execution_count": 312,
   "metadata": {},
   "outputs": [
    {
     "name": "stdout",
     "output_type": "stream",
     "text": [
      "34\n",
      "151\n"
     ]
    }
   ],
   "source": [
    "#JKL Sandy Hook\n",
    "\n",
    "#up=pd.read_csv(r'/Users/sarahpurpura/Desktop/Thesis/Soundings/Interpolate/JKL/Non/Sandy Hook/Sandy Hook - Up.csv')\n",
    "#out_up=open(r'/Users/sarahpurpura/Desktop/Thesis/Soundings/Interpolate/JKL/Non/Sandy Hook/Sandy Hook_up.csv','w')\n",
    "#interp(up,out_up)\n",
    "\n",
    "#peak=pd.read_csv(r'/Users/sarahpurpura/Desktop/Thesis/Soundings/Interpolate/JKL/Non/Sandy Hook/Sandy Hook - Peak.csv')\n",
    "#out_peak=open(r'/Users/sarahpurpura/Desktop/Thesis/Soundings/Interpolate/JKL/Non/Sandy Hook/Sandy Hook_peak.csv','w')\n",
    "#interp(peak,out_peak)\n",
    "\n",
    "down=pd.read_csv(r'/Users/sarahpurpura/Desktop/Thesis/Soundings/Interpolate/JKL/Non/Sandy Hook/Sandy Hook - Down.csv')\n",
    "out_down=open(r'/Users/sarahpurpura/Desktop/Thesis/Soundings/Interpolate/JKL/Non/Sandy Hook/Sandy Hook_down.csv','w')\n",
    "interp(down,out_down)"
   ]
  },
  {
   "cell_type": "code",
   "execution_count": 309,
   "metadata": {},
   "outputs": [
    {
     "name": "stdout",
     "output_type": "stream",
     "text": [
      "35\n",
      "151\n"
     ]
    }
   ],
   "source": [
    "#JKL Williamstown\n",
    "\n",
    "up=pd.read_csv(r'/Users/sarahpurpura/Desktop/Thesis/Soundings/Interpolate/JKL/Non/Williamstown/Williamstown - Up.csv')\n",
    "out_up=open(r'/Users/sarahpurpura/Desktop/Thesis/Soundings/Interpolate/JKL/Non/Williamstown/Williamstown_up.csv','w')\n",
    "interp(up,out_up)\n",
    "\n",
    "#peak=pd.read_csv(r'/Users/sarahpurpura/Desktop/Thesis/Soundings/Interpolate/JKL/Non/Williamstown/Williamstown - Peak.csv')\n",
    "#out_peak=open(r'/Users/sarahpurpura/Desktop/Thesis/Soundings/Interpolate/JKL/Non/Williamstown/Williamstown_peak.csv','w')\n",
    "#interp(peak,out_peak)\n",
    "\n",
    "#down=pd.read_csv(r'/Users/sarahpurpura/Desktop/Thesis/Soundings/Interpolate/JKL/Non/Williamstown/Williamstown - Down.csv')\n",
    "#out_down=open(r'/Users/sarahpurpura/Desktop/Thesis/Soundings/Interpolate/JKL/Non/Williamstown/Williamstown_down.csv','w')\n",
    "#interp(down,out_down)"
   ]
  },
  {
   "cell_type": "code",
   "execution_count": 306,
   "metadata": {},
   "outputs": [
    {
     "name": "stdout",
     "output_type": "stream",
     "text": [
      "35\n",
      "151\n"
     ]
    }
   ],
   "source": [
    "#JKL Worthville\n",
    "\n",
    "#up=pd.read_csv(r'/Users/sarahpurpura/Desktop/Thesis/Soundings/Interpolate/JKL/Non/Worthville/Worthville - Up.csv')\n",
    "#out_up=open(r'/Users/sarahpurpura/Desktop/Thesis/Soundings/Interpolate/JKL/Non/Worthville/Worthville_up.csv','w')\n",
    "#interp(up,out_up)\n",
    "\n",
    "#peak=pd.read_csv(r'/Users/sarahpurpura/Desktop/Thesis/Soundings/Interpolate/JKL/Non/Worthville/Worthville - Peak.csv')\n",
    "#out_peak=open(r'/Users/sarahpurpura/Desktop/Thesis/Soundings/Interpolate/JKL/Non/Worthville/Worthville_peak.csv','w')\n",
    "#interp(peak,out_peak)\n",
    "\n",
    "down=pd.read_csv(r'/Users/sarahpurpura/Desktop/Thesis/Soundings/Interpolate/JKL/Non/Worthville/Worthville - Down.csv')\n",
    "out_down=open(r'/Users/sarahpurpura/Desktop/Thesis/Soundings/Interpolate/JKL/Non/Worthville/Worthville_down.csv','w')\n",
    "interp(down,out_down)"
   ]
  },
  {
   "cell_type": "code",
   "execution_count": 303,
   "metadata": {},
   "outputs": [
    {
     "name": "stdout",
     "output_type": "stream",
     "text": [
      "35\n",
      "151\n"
     ]
    }
   ],
   "source": [
    "#JKL Mt. Olivet\n",
    "\n",
    "up=pd.read_csv(r'/Users/sarahpurpura/Desktop/Thesis/Soundings/Interpolate/JKL/Non/Mt. Olivet/Mt. Olivet - Up.csv')\n",
    "out_up=open(r'/Users/sarahpurpura/Desktop/Thesis/Soundings/Interpolate/JKL/Non/Mt. Olivet/Mt. Olivet_up.csv','w')\n",
    "interp(up,out_up)\n",
    "\n",
    "#peak=pd.read_csv(r'/Users/sarahpurpura/Desktop/Thesis/Soundings/Interpolate/JKL/Non/Mt. Olivet/Mt. Olivet - Peak.csv')\n",
    "#out_peak=open(r'/Users/sarahpurpura/Desktop/Thesis/Soundings/Interpolate/JKL/Non/Mt. Olivet/Mt. Olivet_peak.csv','w')\n",
    "#interp(peak,out_peak)\n",
    "\n",
    "#down=pd.read_csv(r'/Users/sarahpurpura/Desktop/Thesis/Soundings/Interpolate/JKL/Non/Mt. Olivet/Mt. Olivet - Down.csv')\n",
    "#out_down=open(r'/Users/sarahpurpura/Desktop/Thesis/Soundings/Interpolate/JKL/Non/Mt. Olivet/Mt. Olivet_down.csv','w')\n",
    "#interp(down,out_down)"
   ]
  },
  {
   "cell_type": "code",
   "execution_count": 300,
   "metadata": {},
   "outputs": [
    {
     "name": "stdout",
     "output_type": "stream",
     "text": [
      "35\n",
      "151\n"
     ]
    }
   ],
   "source": [
    "#JKL Moreland\n",
    "\n",
    "#up=pd.read_csv(r'/Users/sarahpurpura/Desktop/Thesis/Soundings/Interpolate/JKL/Non/Moreland/Moreland - Up.csv')\n",
    "#out_up=open(r'/Users/sarahpurpura/Desktop/Thesis/Soundings/Interpolate/JKL/Non/Moreland/Moreland_up.csv','w')\n",
    "#interp(up,out_up)\n",
    "\n",
    "#peak=pd.read_csv(r'/Users/sarahpurpura/Desktop/Thesis/Soundings/Interpolate/JKL/Non/Moreland/Moreland - Peak.csv')\n",
    "#out_peak=open(r'/Users/sarahpurpura/Desktop/Thesis/Soundings/Interpolate/JKL/Non/Moreland/Moreland_peak.csv','w')\n",
    "#interp(peak,out_peak)\n",
    "\n",
    "down=pd.read_csv(r'/Users/sarahpurpura/Desktop/Thesis/Soundings/Interpolate/JKL/Non/Moreland/Moreland - Down.csv')\n",
    "out_down=open(r'/Users/sarahpurpura/Desktop/Thesis/Soundings/Interpolate/JKL/Non/Moreland/Moreland_down.csv','w')\n",
    "interp(down,out_down)"
   ]
  },
  {
   "cell_type": "code",
   "execution_count": 297,
   "metadata": {},
   "outputs": [
    {
     "name": "stdout",
     "output_type": "stream",
     "text": [
      "35\n",
      "151\n"
     ]
    }
   ],
   "source": [
    "#JKL Livingston\n",
    "\n",
    "up=pd.read_csv(r'/Users/sarahpurpura/Desktop/Thesis/Soundings/Interpolate/JKL/Non/Livingston/Livingston - Up.csv')\n",
    "out_up=open(r'/Users/sarahpurpura/Desktop/Thesis/Soundings/Interpolate/JKL/Non/Livingston/Livingston_up.csv','w')\n",
    "interp(up,out_up)\n",
    "\n",
    "#peak=pd.read_csv(r'/Users/sarahpurpura/Desktop/Thesis/Soundings/Interpolate/JKL/Non/Livingston/Livingston - Peak.csv')\n",
    "#out_peak=open(r'/Users/sarahpurpura/Desktop/Thesis/Soundings/Interpolate/JKL/Non/Livingston/Livingston_peak.csv','w')\n",
    "#interp(peak,out_peak)\n",
    "\n",
    "#down=pd.read_csv(r'/Users/sarahpurpura/Desktop/Thesis/Soundings/Interpolate/JKL/Non/Livingston/Livingston - Down.csv')\n",
    "#out_down=open(r'/Users/sarahpurpura/Desktop/Thesis/Soundings/Interpolate/JKL/Non/Livingston/Livingston_down.csv','w')\n",
    "#interp(down,out_down)"
   ]
  },
  {
   "cell_type": "code",
   "execution_count": 294,
   "metadata": {},
   "outputs": [
    {
     "name": "stdout",
     "output_type": "stream",
     "text": [
      "34\n",
      "151\n"
     ]
    }
   ],
   "source": [
    "#JKL Lee City\n",
    "\n",
    "#up=pd.read_csv(r'/Users/sarahpurpura/Desktop/Thesis/Soundings/Interpolate/JKL/Non/Lee City/Lee City - Up.csv')\n",
    "#out_up=open(r'/Users/sarahpurpura/Desktop/Thesis/Soundings/Interpolate/JKL/Non/Lee City/Lee City_up.csv','w')\n",
    "#interp(up,out_up)\n",
    "\n",
    "#peak=pd.read_csv(r'/Users/sarahpurpura/Desktop/Thesis/Soundings/Interpolate/JKL/Non/Lee City/Lee City - Peak.csv')\n",
    "#out_peak=open(r'/Users/sarahpurpura/Desktop/Thesis/Soundings/Interpolate/JKL/Non/Lee City/Lee City_peak.csv','w')\n",
    "#interp(peak,out_peak)\n",
    "\n",
    "down=pd.read_csv(r'/Users/sarahpurpura/Desktop/Thesis/Soundings/Interpolate/JKL/Non/Lee City/Lee City - Down.csv')\n",
    "out_down=open(r'/Users/sarahpurpura/Desktop/Thesis/Soundings/Interpolate/JKL/Non/Lee City/Lee City_down.csv','w')\n",
    "interp(down,out_down)"
   ]
  },
  {
   "cell_type": "code",
   "execution_count": 291,
   "metadata": {},
   "outputs": [
    {
     "name": "stdout",
     "output_type": "stream",
     "text": [
      "34\n",
      "151\n"
     ]
    }
   ],
   "source": [
    "#JKL Lake\n",
    "\n",
    "up=pd.read_csv(r'/Users/sarahpurpura/Desktop/Thesis/Soundings/Interpolate/JKL/Non/Lake/Lake - Up.csv')\n",
    "out_up=open(r'/Users/sarahpurpura/Desktop/Thesis/Soundings/Interpolate/JKL/Non/Lake/Lake_up.csv','w')\n",
    "interp(up,out_up)\n",
    "\n",
    "#peak=pd.read_csv(r'/Users/sarahpurpura/Desktop/Thesis/Soundings/Interpolate/JKL/Non/Lake/Lake - Peak.csv')\n",
    "#out_peak=open(r'/Users/sarahpurpura/Desktop/Thesis/Soundings/Interpolate/JKL/Non/Lake/Lake_peak.csv','w')\n",
    "#interp(peak,out_peak)\n",
    "\n",
    "#down=pd.read_csv(r'/Users/sarahpurpura/Desktop/Thesis/Soundings/Interpolate/JKL/Non/Lake/Lake - Down.csv')\n",
    "#out_down=open(r'/Users/sarahpurpura/Desktop/Thesis/Soundings/Interpolate/JKL/Non/Lake/Lake_down.csv','w')\n",
    "#interp(down,out_down)"
   ]
  },
  {
   "cell_type": "code",
   "execution_count": 288,
   "metadata": {},
   "outputs": [
    {
     "name": "stdout",
     "output_type": "stream",
     "text": [
      "35\n",
      "151\n"
     ]
    }
   ],
   "source": [
    "#JKL Hill Top\n",
    "\n",
    "#up=pd.read_csv(r'/Users/sarahpurpura/Desktop/Thesis/Soundings/Interpolate/JKL/Non/Hill Top/Hill Top - Up.csv')\n",
    "#out_up=open(r'/Users/sarahpurpura/Desktop/Thesis/Soundings/Interpolate/JKL/Non/Hill Top/Hill Top_up.csv','w')\n",
    "#interp(up,out_up)\n",
    "\n",
    "#peak=pd.read_csv(r'/Users/sarahpurpura/Desktop/Thesis/Soundings/Interpolate/JKL/Non/Hill Top/Hill Top - Peak.csv')\n",
    "#out_peak=open(r'/Users/sarahpurpura/Desktop/Thesis/Soundings/Interpolate/JKL/Non/Hill Top/Hill Top_peak.csv','w')\n",
    "#interp(peak,out_peak)\n",
    "\n",
    "down=pd.read_csv(r'/Users/sarahpurpura/Desktop/Thesis/Soundings/Interpolate/JKL/Non/Hill Top/Hill Top - Down.csv')\n",
    "out_down=open(r'/Users/sarahpurpura/Desktop/Thesis/Soundings/Interpolate/JKL/Non/Hill Top/Hill Top_down.csv','w')\n",
    "interp(down,out_down)"
   ]
  },
  {
   "cell_type": "code",
   "execution_count": 285,
   "metadata": {},
   "outputs": [
    {
     "name": "stdout",
     "output_type": "stream",
     "text": [
      "35\n",
      "151\n"
     ]
    }
   ],
   "source": [
    "#JKL Hazard\n",
    "\n",
    "up=pd.read_csv(r'/Users/sarahpurpura/Desktop/Thesis/Soundings/Interpolate/JKL/Non/Hazard/Hazard - Up.csv')\n",
    "out_up=open(r'/Users/sarahpurpura/Desktop/Thesis/Soundings/Interpolate/JKL/Non/Hazard/Hazard_up.csv','w')\n",
    "interp(up,out_up)\n",
    "\n",
    "#peak=pd.read_csv(r'/Users/sarahpurpura/Desktop/Thesis/Soundings/Interpolate/JKL/Non/Hazard/Hazard - Peak.csv')\n",
    "#out_peak=open(r'/Users/sarahpurpura/Desktop/Thesis/Soundings/Interpolate/JKL/Non/Hazard/Hazard_peak.csv','w')\n",
    "#interp(peak,out_peak)\n",
    "\n",
    "#down=pd.read_csv(r'/Users/sarahpurpura/Desktop/Thesis/Soundings/Interpolate/JKL/Non/Hazard/Hazard - Down.csv')\n",
    "#out_down=open(r'/Users/sarahpurpura/Desktop/Thesis/Soundings/Interpolate/JKL/Non/Hazard/Hazard_down.csv','w')\n",
    "#interp(down,out_down)"
   ]
  },
  {
   "cell_type": "code",
   "execution_count": 282,
   "metadata": {},
   "outputs": [
    {
     "name": "stdout",
     "output_type": "stream",
     "text": [
      "33\n",
      "151\n"
     ]
    }
   ],
   "source": [
    "#JKL Chilton South\n",
    "\n",
    "#up=pd.read_csv(r'/Users/sarahpurpura/Desktop/Thesis/Soundings/Interpolate/JKL/Non/Chilton South/Chilton South - Up.csv')\n",
    "#out_up=open(r'/Users/sarahpurpura/Desktop/Thesis/Soundings/Interpolate/JKL/Non/Chilton South/Chilton South_up.csv','w')\n",
    "#interp(up,out_up)\n",
    "\n",
    "#peak=pd.read_csv(r'/Users/sarahpurpura/Desktop/Thesis/Soundings/Interpolate/JKL/Non/Chilton South/Chilton South - Peak.csv')\n",
    "#out_peak=open(r'/Users/sarahpurpura/Desktop/Thesis/Soundings/Interpolate/JKL/Non/Chilton South/Chilton South_peak.csv','w')\n",
    "#interp(peak,out_peak)\n",
    "\n",
    "down=pd.read_csv(r'/Users/sarahpurpura/Desktop/Thesis/Soundings/Interpolate/JKL/Non/Chilton South/Chilton South - Down.csv')\n",
    "out_down=open(r'/Users/sarahpurpura/Desktop/Thesis/Soundings/Interpolate/JKL/Non/Chilton South/Chilton South_down.csv','w')\n",
    "interp(down,out_down)"
   ]
  },
  {
   "cell_type": "code",
   "execution_count": 279,
   "metadata": {},
   "outputs": [
    {
     "name": "stdout",
     "output_type": "stream",
     "text": [
      "35\n",
      "151\n"
     ]
    }
   ],
   "source": [
    "#JKL Chilton North\n",
    "\n",
    "up=pd.read_csv(r'/Users/sarahpurpura/Desktop/Thesis/Soundings/Interpolate/JKL/Non/Chilton North/Chilton North - Up.csv')\n",
    "out_up=open(r'/Users/sarahpurpura/Desktop/Thesis/Soundings/Interpolate/JKL/Non/Chilton North/Chilton North_up.csv','w')\n",
    "interp(up,out_up)\n",
    "\n",
    "#peak=pd.read_csv(r'/Users/sarahpurpura/Desktop/Thesis/Soundings/Interpolate/JKL/Non/Chilton North/Chilton North - Peak.csv')\n",
    "#out_peak=open(r'/Users/sarahpurpura/Desktop/Thesis/Soundings/Interpolate/JKL/Non/Chilton North/Chilton North_peak.csv','w')\n",
    "#interp(peak,out_peak)\n",
    "\n",
    "#down=pd.read_csv(r'/Users/sarahpurpura/Desktop/Thesis/Soundings/Interpolate/JKL/Non/Chilton North/Chilton North - Down.csv')\n",
    "#out_down=open(r'/Users/sarahpurpura/Desktop/Thesis/Soundings/Interpolate/JKL/Non/Chilton North/Chilton North_down.csv','w')\n",
    "#interp(down,out_down)"
   ]
  },
  {
   "cell_type": "code",
   "execution_count": 276,
   "metadata": {},
   "outputs": [
    {
     "name": "stdout",
     "output_type": "stream",
     "text": [
      "35\n",
      "151\n"
     ]
    }
   ],
   "source": [
    "#JKL Bloomfield\n",
    "\n",
    "#up=pd.read_csv(r'/Users/sarahpurpura/Desktop/Thesis/Soundings/Interpolate/JKL/Non/Bloomfield/Bloomfield - Up.csv')\n",
    "#out_up=open(r'/Users/sarahpurpura/Desktop/Thesis/Soundings/Interpolate/JKL/Non/Bloomfield/Bloomfield_up.csv','w')\n",
    "#interp(up,out_up)\n",
    "\n",
    "#peak=pd.read_csv(r'/Users/sarahpurpura/Desktop/Thesis/Soundings/Interpolate/JKL/Non/Bloomfield/Bloomfield - Peak.csv')\n",
    "#out_peak=open(r'/Users/sarahpurpura/Desktop/Thesis/Soundings/Interpolate/JKL/Non/Bloomfield/Bloomfield_peak.csv','w')\n",
    "#interp(peak,out_peak)\n",
    "\n",
    "down=pd.read_csv(r'/Users/sarahpurpura/Desktop/Thesis/Soundings/Interpolate/JKL/Non/Bloomfield/Bloomfield - Down.csv')\n",
    "out_down=open(r'/Users/sarahpurpura/Desktop/Thesis/Soundings/Interpolate/JKL/Non/Bloomfield/Bloomfield_down.csv','w')\n",
    "interp(down,out_down)"
   ]
  },
  {
   "cell_type": "code",
   "execution_count": 272,
   "metadata": {},
   "outputs": [
    {
     "name": "stdout",
     "output_type": "stream",
     "text": [
      "35\n",
      "151\n"
     ]
    }
   ],
   "source": [
    "#JKL Baltown North\n",
    "\n",
    "up=pd.read_csv(r'/Users/sarahpurpura/Desktop/Thesis/Soundings/Interpolate/JKL/Non/Baltown South/Baltown South - Up.csv')\n",
    "out_up=open(r'/Users/sarahpurpura/Desktop/Thesis/Soundings/Interpolate/JKL/Non/Baltown South/Baltown South_up.csv','w')\n",
    "interp(up,out_up)\n",
    "\n",
    "#peak=pd.read_csv(r'/Users/sarahpurpura/Desktop/Thesis/Soundings/Interpolate/JKL/Non/Baltown South/Baltown South - Peak.csv')\n",
    "#out_peak=open(r'/Users/sarahpurpura/Desktop/Thesis/Soundings/Interpolate/JKL/Non/Baltown South/Baltown South_peak.csv','w')\n",
    "#interp(peak,out_peak)\n",
    "\n",
    "#down=pd.read_csv(r'/Users/sarahpurpura/Desktop/Thesis/Soundings/Interpolate/JKL/Non/Baltown South/Baltown South - Down.csv')\n",
    "#out_down=open(r'/Users/sarahpurpura/Desktop/Thesis/Soundings/Interpolate/JKL/Non/Baltown South/Baltown South_down.csv','w')\n",
    "#interp(down,out_down)"
   ]
  },
  {
   "cell_type": "code",
   "execution_count": 273,
   "metadata": {},
   "outputs": [
    {
     "name": "stdout",
     "output_type": "stream",
     "text": [
      "35\n",
      "151\n"
     ]
    }
   ],
   "source": [
    "#JKL Baltown North\n",
    "\n",
    "up=pd.read_csv(r'/Users/sarahpurpura/Desktop/Thesis/Soundings/Interpolate/JKL/Non/Baltown North/Baltown North - Up.csv')\n",
    "out_up=open(r'/Users/sarahpurpura/Desktop/Thesis/Soundings/Interpolate/JKL/Non/Baltown North/Baltown North_up.csv','w')\n",
    "interp(up,out_up)\n",
    "\n",
    "#peak=pd.read_csv(r'/Users/sarahpurpura/Desktop/Thesis/Soundings/Interpolate/JKL/Non/Baltown North/Baltown North - Peak.csv')\n",
    "#out_peak=open(r'/Users/sarahpurpura/Desktop/Thesis/Soundings/Interpolate/JKL/Non/Baltown North/Baltown North_peak.csv','w')\n",
    "#interp(peak,out_peak)\n",
    "\n",
    "#down=pd.read_csv(r'/Users/sarahpurpura/Desktop/Thesis/Soundings/Interpolate/JKL/Non/Baltown North/Baltown North - Down.csv')\n",
    "#out_down=open(r'/Users/sarahpurpura/Desktop/Thesis/Soundings/Interpolate/JKL/Non/Baltown North/Baltown North_down.csv','w')\n",
    "#interp(down,out_down)"
   ]
  },
  {
   "cell_type": "code",
   "execution_count": 264,
   "metadata": {},
   "outputs": [
    {
     "name": "stdout",
     "output_type": "stream",
     "text": [
      "35\n",
      "151\n"
     ]
    }
   ],
   "source": [
    "#JKL Baltown\n",
    "\n",
    "#up=pd.read_csv(r'/Users/sarahpurpura/Desktop/Thesis/Soundings/Interpolate/JKL/Non/Baltown/Baltown - Up.csv')\n",
    "#out_up=open(r'/Users/sarahpurpura/Desktop/Thesis/Soundings/Interpolate/JKL/Non/Baltown/Baltown_up.csv','w')\n",
    "#interp(up,out_up)\n",
    "\n",
    "#peak=pd.read_csv(r'/Users/sarahpurpura/Desktop/Thesis/Soundings/Interpolate/JKL/Non/Baltown/Baltown - Peak.csv')\n",
    "#out_peak=open(r'/Users/sarahpurpura/Desktop/Thesis/Soundings/Interpolate/JKL/Non/Baltown/Baltown_peak.csv','w')\n",
    "#interp(peak,out_peak)\n",
    "\n",
    "#down=pd.read_csv(r'/Users/sarahpurpura/Desktop/Thesis/Soundings/Interpolate/JKL/Non/Baltown/Baltown - Down.csv')\n",
    "#out_down=open(r'/Users/sarahpurpura/Desktop/Thesis/Soundings/Interpolate/JKL/Non/Baltown/Baltown_down.csv','w')\n",
    "#interp(down,out_down)"
   ]
  },
  {
   "cell_type": "code",
   "execution_count": 265,
   "metadata": {},
   "outputs": [
    {
     "name": "stdout",
     "output_type": "stream",
     "text": [
      "35\n",
      "151\n"
     ]
    }
   ],
   "source": [
    "#JKL Albany\n",
    "\n",
    "#up=pd.read_csv(r'/Users/sarahpurpura/Desktop/Thesis/Soundings/Interpolate/JKL/Non/Albany/Albany - Up.csv')\n",
    "#out_up=open(r'/Users/sarahpurpura/Desktop/Thesis/Soundings/Interpolate/JKL/Non/Albany/Albany_up.csv','w')\n",
    "#interp(up,out_up)\n",
    "\n",
    "peak=pd.read_csv(r'/Users/sarahpurpura/Desktop/Thesis/Soundings/Interpolate/JKL/Non/Albany/Albany - Peak.csv')\n",
    "out_peak=open(r'/Users/sarahpurpura/Desktop/Thesis/Soundings/Interpolate/JKL/Non/Albany/Albany_peak.csv','w')\n",
    "interp(peak,out_peak)\n",
    "\n",
    "#down=pd.read_csv(r'/Users/sarahpurpura/Desktop/Thesis/Soundings/Interpolate/JKL/Non/Albany/Albany - Down.csv')\n",
    "#out_down=open(r'/Users/sarahpurpura/Desktop/Thesis/Soundings/Interpolate/JKL/Non/Albany/Albany_down.csv','w')\n",
    "#interp(down,out_down)"
   ]
  },
  {
   "cell_type": "code",
   "execution_count": 250,
   "metadata": {},
   "outputs": [
    {
     "name": "stdout",
     "output_type": "stream",
     "text": [
      "36\n",
      "151\n"
     ]
    }
   ],
   "source": [
    "#JKL Stanford\n",
    "\n",
    "up=pd.read_csv(r'/Users/sarahpurpura/Desktop/Thesis/Soundings/Interpolate/JKL/Crosser/Stanford/Stanford - Up.csv')\n",
    "out_up=open(r'/Users/sarahpurpura/Desktop/Thesis/Soundings/Interpolate/JKL/Crosser/Stanford/Stanford_up.csv','w')\n",
    "interp(up,out_up)\n",
    "\n",
    "peak=pd.read_csv(r'/Users/sarahpurpura/Desktop/Thesis/Soundings/Interpolate/JKL/Crosser/Stanford/Stanford - Peak.csv')\n",
    "out_peak=open(r'/Users/sarahpurpura/Desktop/Thesis/Soundings/Interpolate/JKL/Crosser/Stanford/Stanford_peak.csv','w')\n",
    "interp(peak,out_peak)\n",
    "\n",
    "down=pd.read_csv(r'/Users/sarahpurpura/Desktop/Thesis/Soundings/Interpolate/JKL/Crosser/Stanford/Stanford - Down.csv')\n",
    "out_down=open(r'/Users/sarahpurpura/Desktop/Thesis/Soundings/Interpolate/JKL/Crosser/Stanford/Stanford_down.csv','w')\n",
    "interp(down,out_down)"
   ]
  },
  {
   "cell_type": "code",
   "execution_count": 247,
   "metadata": {},
   "outputs": [
    {
     "name": "stdout",
     "output_type": "stream",
     "text": [
      "35\n",
      "151\n"
     ]
    }
   ],
   "source": [
    "#JKL Burning Springs\n",
    "\n",
    "up=pd.read_csv(r'/Users/sarahpurpura/Desktop/Thesis/Soundings/Interpolate/JKL/Crosser/Burning Springs/Burning Springs - Up.csv')\n",
    "out_up=open(r'/Users/sarahpurpura/Desktop/Thesis/Soundings/Interpolate/JKL/Crosser/Burning Springs/Burning Springs_up.csv','w')\n",
    "interp(up,out_up)\n",
    "\n",
    "peak=pd.read_csv(r'/Users/sarahpurpura/Desktop/Thesis/Soundings/Interpolate/JKL/Crosser/Burning Springs/Burning Springs - Peak.csv')\n",
    "out_peak=open(r'/Users/sarahpurpura/Desktop/Thesis/Soundings/Interpolate/JKL/Crosser/Burning Springs/Burning Springs_peak.csv','w')\n",
    "interp(peak,out_peak)\n",
    "\n",
    "down=pd.read_csv(r'/Users/sarahpurpura/Desktop/Thesis/Soundings/Interpolate/JKL/Crosser/Burning Springs/Burning Springs - Down.csv')\n",
    "out_down=open(r'/Users/sarahpurpura/Desktop/Thesis/Soundings/Interpolate/JKL/Crosser/Burning Springs/Burning Springs_down.csv','w')\n",
    "interp(down,out_down)"
   ]
  },
  {
   "cell_type": "code",
   "execution_count": 243,
   "metadata": {},
   "outputs": [
    {
     "name": "stdout",
     "output_type": "stream",
     "text": [
      "34\n",
      "151\n"
     ]
    }
   ],
   "source": [
    "#GSP Weaverville\n",
    "\n",
    "up=pd.read_csv(r'/Users/sarahpurpura/Desktop/Thesis/Soundings/Interpolate/GSP/Non/Weaverville/Weaverville - Up.csv')\n",
    "out_up=open(r'/Users/sarahpurpura/Desktop/Thesis/Soundings/Interpolate/GSP/Non/Weaverville/Weaverville_up.csv','w')\n",
    "interp(up,out_up)\n",
    "\n",
    "peak=pd.read_csv(r'/Users/sarahpurpura/Desktop/Thesis/Soundings/Interpolate/GSP/Non/Weaverville/Weaverville - Peak.csv')\n",
    "out_peak=open(r'/Users/sarahpurpura/Desktop/Thesis/Soundings/Interpolate/GSP/Non/Weaverville/Weaverville_peak.csv','w')\n",
    "interp(peak,out_peak)\n",
    "\n",
    "down=pd.read_csv(r'/Users/sarahpurpura/Desktop/Thesis/Soundings/Interpolate/GSP/Non/Weaverville/Weaverville - Down.csv')\n",
    "out_down=open(r'/Users/sarahpurpura/Desktop/Thesis/Soundings/Interpolate/GSP/Non/Weaverville/Weavervilley_down.csv','w')\n",
    "interp(down,out_down)"
   ]
  },
  {
   "cell_type": "code",
   "execution_count": 237,
   "metadata": {},
   "outputs": [
    {
     "name": "stdout",
     "output_type": "stream",
     "text": [
      "35\n",
      "151\n"
     ]
    }
   ],
   "source": [
    "#GSP Love Valley\n",
    "\n",
    "up=pd.read_csv(r'/Users/sarahpurpura/Desktop/Thesis/Soundings/Interpolate/GSP/Non/Love Valley/Love Valley - Up.csv')\n",
    "out_up=open(r'/Users/sarahpurpura/Desktop/Thesis/Soundings/Interpolate/GSP/Non/Love Valley/Love Valley_up.csv','w')\n",
    "interp(up,out_up)\n",
    "\n",
    "peak=pd.read_csv(r'/Users/sarahpurpura/Desktop/Thesis/Soundings/Interpolate/GSP/Non/Love Valley/Love Valley - Peak.csv')\n",
    "out_peak=open(r'/Users/sarahpurpura/Desktop/Thesis/Soundings/Interpolate/GSP/Non/Love Valley/Love Valley_peak.csv','w')\n",
    "interp(peak,out_peak)\n",
    "\n",
    "down=pd.read_csv(r'/Users/sarahpurpura/Desktop/Thesis/Soundings/Interpolate/GSP/Non/Love Valley/Love Valley - Down.csv')\n",
    "out_down=open(r'/Users/sarahpurpura/Desktop/Thesis/Soundings/Interpolate/GSP/Non/Love Valley/Love Valley_down.csv','w')\n",
    "interp(down,out_down)"
   ]
  },
  {
   "cell_type": "code",
   "execution_count": 436,
   "metadata": {},
   "outputs": [],
   "source": [
    "#GSP Oak Ridge\n",
    "\n",
    "up=pd.read_csv(r'/Users/sarahpurpura/Desktop/Thesis/Soundings/Interpolate/GSP/Crosser/Oak Ridge/Oak Ridge - Up.csv')\n",
    "out_up=open(r'/Users/sarahpurpura/Desktop/Thesis/Soundings/Interpolate/GSP/Crosser/Oak Ridge/Oak Ridge_up.csv','w')\n",
    "interp(up,out_up)\n",
    "\n",
    "#peak=pd.read_csv(r'/Users/sarahpurpura/Desktop/Thesis/Soundings/Interpolate/GSP/Crosser/Oak Ridge/Oak Ridge - Peak.csv')\n",
    "#out_peak=open(r'/Users/sarahpurpura/Desktop/Thesis/Soundings/Interpolate/GSP/Crosser/Oak Ridge/Oak Ridge_peak.csv','w')\n",
    "#interp(peak,out_peak)\n",
    "\n",
    "#down=pd.read_csv(r'/Users/sarahpurpura/Desktop/Thesis/Soundings/Interpolate/GSP/Crosser/Oak Ridge/Oak Ridge - Down.csv')\n",
    "#out_down=open(r'/Users/sarahpurpura/Desktop/Thesis/Soundings/Interpolate/GSP/Crosser/Oak Ridge/Oak Ridge_down.csv','w')\n",
    "#interp(down,out_down)"
   ]
  },
  {
   "cell_type": "code",
   "execution_count": 433,
   "metadata": {},
   "outputs": [],
   "source": [
    "#GSP Marshall\n",
    "\n",
    "#up=pd.read_csv(r'/Users/sarahpurpura/Desktop/Thesis/Soundings/Interpolate/GSP/Crosser/Marshall/Marshall - Up.csv')\n",
    "#out_up=open(r'/Users/sarahpurpura/Desktop/Thesis/Soundings/Interpolate/GSP/Crosser/Marshall/Marshall_up.csv','w')\n",
    "#interp(up,out_up)\n",
    "\n",
    "#peak=pd.read_csv(r'/Users/sarahpurpura/Desktop/Thesis/Soundings/Interpolate/GSP/Crosser/Marshall/Marshall - Peak.csv')\n",
    "#out_peak=open(r'/Users/sarahpurpura/Desktop/Thesis/Soundings/Interpolate/GSP/Crosser/Marshall/Marshall_peak.csv','w')\n",
    "#interp(peak,out_peak)\n",
    "\n",
    "#down=pd.read_csv(r'/Users/sarahpurpura/Desktop/Thesis/Soundings/Interpolate/GSP/Crosser/Marshall/Marshall - Down.csv')\n",
    "#out_down=open(r'/Users/sarahpurpura/Desktop/Thesis/Soundings/Interpolate/GSP/Crosser/Marshall/Marshall_down.csv','w')\n",
    "#interp(down,out_down)"
   ]
  },
  {
   "cell_type": "code",
   "execution_count": 219,
   "metadata": {},
   "outputs": [
    {
     "name": "stdout",
     "output_type": "stream",
     "text": [
      "36\n",
      "151\n"
     ]
    }
   ],
   "source": [
    "#FFC Storm 4\n",
    "\n",
    "up=pd.read_csv(r'/Users/sarahpurpura/Desktop/Thesis/Soundings/Interpolate/FFC/Non/Storm 4/Storm 4 - Up.csv')\n",
    "out_up=open(r'/Users/sarahpurpura/Desktop/Thesis/Soundings/Interpolate/FFC/Non/Storm 4/Storm 4_up.csv','w')\n",
    "interp(up,out_up)\n",
    "\n",
    "peak=pd.read_csv(r'/Users/sarahpurpura/Desktop/Thesis/Soundings/Interpolate/FFC/Non/Storm 4/Storm 4 - Peak.csv')\n",
    "out_peak=open(r'/Users/sarahpurpura/Desktop/Thesis/Soundings/Interpolate/FFC/Non/Storm 4/Storm 4_peak.csv','w')\n",
    "interp(peak,out_peak)\n",
    "\n",
    "\n",
    "down=pd.read_csv(r'/Users/sarahpurpura/Desktop/Thesis/Soundings/Interpolate/FFC/Non/Storm 4/Storm 4 - Down.csv')\n",
    "out_down=open(r'/Users/sarahpurpura/Desktop/Thesis/Soundings/Interpolate/FFC/Non/Storm 4/Storm 4_down.csv','w')\n",
    "interp(down,out_down)"
   ]
  },
  {
   "cell_type": "code",
   "execution_count": 216,
   "metadata": {},
   "outputs": [
    {
     "name": "stdout",
     "output_type": "stream",
     "text": [
      "35\n",
      "151\n"
     ]
    }
   ],
   "source": [
    "#FFC Storm 3\n",
    "\n",
    "up=pd.read_csv(r'/Users/sarahpurpura/Desktop/Thesis/Soundings/Interpolate/FFC/Non/Storm 3/Storm 3 - Up.csv')\n",
    "out_up=open(r'/Users/sarahpurpura/Desktop/Thesis/Soundings/Interpolate/FFC/Non/Storm 3/Storm 3_up.csv','w')\n",
    "interp(up,out_up)\n",
    "\n",
    "peak=pd.read_csv(r'/Users/sarahpurpura/Desktop/Thesis/Soundings/Interpolate/FFC/Non/Storm 3/Storm 3 - Peak.csv')\n",
    "out_peak=open(r'/Users/sarahpurpura/Desktop/Thesis/Soundings/Interpolate/FFC/Non/Storm 3/Storm 3_peak.csv','w')\n",
    "interp(peak,out_peak)\n",
    "\n",
    "down=pd.read_csv(r'/Users/sarahpurpura/Desktop/Thesis/Soundings/Interpolate/FFC/Non/Storm 3/Storm 3 - Down.csv')\n",
    "out_down=open(r'/Users/sarahpurpura/Desktop/Thesis/Soundings/Interpolate/FFC/Non/Storm 3/Storm 3_down.csv','w')\n",
    "interp(down,out_down)"
   ]
  },
  {
   "cell_type": "code",
   "execution_count": 212,
   "metadata": {},
   "outputs": [
    {
     "name": "stdout",
     "output_type": "stream",
     "text": [
      "35\n",
      "151\n"
     ]
    }
   ],
   "source": [
    "#FCX Storm 1\n",
    "\n",
    "up=pd.read_csv(r'/Users/sarahpurpura/Desktop/Thesis/Soundings/Interpolate/FCX/Non/Storm 1/Storm 1 - Up.csv')\n",
    "out_up=open(r'/Users/sarahpurpura/Desktop/Thesis/Soundings/Interpolate/FCX/Non/Storm 1/Storm 1_up.csv','w')\n",
    "interp(up,out_up)\n",
    "\n",
    "peak=pd.read_csv(r'/Users/sarahpurpura/Desktop/Thesis/Soundings/Interpolate/FCX/Non/Storm 1/Storm 1 - Peak.csv')\n",
    "out_peak=open(r'/Users/sarahpurpura/Desktop/Thesis/Soundings/Interpolate/FCX/Non/Storm 1/Storm 1_peak.csv','w')\n",
    "interp(peak,out_peak)\n",
    "\n",
    "down=pd.read_csv(r'/Users/sarahpurpura/Desktop/Thesis/Soundings/Interpolate/FCX/Non/Storm 1/Storm 1 - Down.csv')\n",
    "out_down=open(r'/Users/sarahpurpura/Desktop/Thesis/Soundings/Interpolate/FCX/Non/Storm 1/Storm 1_down.csv','w')\n",
    "interp(down,out_down)"
   ]
  },
  {
   "cell_type": "code",
   "execution_count": 207,
   "metadata": {},
   "outputs": [
    {
     "name": "stdout",
     "output_type": "stream",
     "text": [
      "33\n",
      "151\n"
     ]
    }
   ],
   "source": [
    "#FCX Mt.Airy\n",
    "\n",
    "up=pd.read_csv(r'/Users/sarahpurpura/Desktop/Thesis/Soundings/Interpolate/FCX/Non/Mt. Airy/Mt. Airy - Up.csv')\n",
    "out_up=open(r'/Users/sarahpurpura/Desktop/Thesis/Soundings/Interpolate/FCX/Non/Mt. Airy/Mt. Airy_up.csv','w')\n",
    "interp(up,out_up)\n",
    "\n",
    "\n",
    "peak=pd.read_csv(r'/Users/sarahpurpura/Desktop/Thesis/Soundings/Interpolate/FCX/Non/Mt. Airy/Mt. Airy - Peak.csv')\n",
    "out_peak=open(r'/Users/sarahpurpura/Desktop/Thesis/Soundings/Interpolate/FCX/Non/Mt. Airy/Mt. Airy_peak.csv','w')\n",
    "interp(peak,out_peak)\n",
    "\n",
    "down=pd.read_csv(r'/Users/sarahpurpura/Desktop/Thesis/Soundings/Interpolate/FCX/Non/Mt. Airy/Mt. Airy - Down.csv')\n",
    "out_down=open(r'/Users/sarahpurpura/Desktop/Thesis/Soundings/Interpolate/FCX/Non/Mt. Airy/Mt. Airy_down.csv','w')\n",
    "interp(down,out_down)"
   ]
  },
  {
   "cell_type": "code",
   "execution_count": 196,
   "metadata": {},
   "outputs": [
    {
     "name": "stdout",
     "output_type": "stream",
     "text": [
      "35\n",
      "151\n"
     ]
    }
   ],
   "source": [
    "#FCX Ferrom\n",
    "\n",
    "up=pd.read_csv(r'/Users/sarahpurpura/Desktop/Thesis/Soundings/Interpolate/FCX/Non/Ferrom/Ferrom - Up.csv')\n",
    "out_up=open(r'/Users/sarahpurpura/Desktop/Thesis/Soundings/Interpolate/FCX/Non/Ferrom/Ferrom_up.csv','w')\n",
    "interp(up,out_up)\n",
    "\n",
    "peak=pd.read_csv(r'/Users/sarahpurpura/Desktop/Thesis/Soundings/Interpolate/FCX/Non/Ferrom/Ferrom - Peak.csv')\n",
    "out_peak=open(r'/Users/sarahpurpura/Desktop/Thesis/Soundings/Interpolate/FCX/Non/Ferrom/Ferrom_peak.csv','w')\n",
    "interp(peak,out_peak)\n",
    "\n",
    "down=pd.read_csv(r'/Users/sarahpurpura/Desktop/Thesis/Soundings/Interpolate/FCX/Non/Ferrom/Ferrom - Down.csv')\n",
    "out_down=open(r'/Users/sarahpurpura/Desktop/Thesis/Soundings/Interpolate/FCX/Non/Ferrom/Ferrom_down.csv','w')\n",
    "interp(down,out_down)"
   ]
  },
  {
   "cell_type": "code",
   "execution_count": 186,
   "metadata": {},
   "outputs": [
    {
     "name": "stdout",
     "output_type": "stream",
     "text": [
      "35\n",
      "151\n"
     ]
    }
   ],
   "source": [
    "#FCX Vicco\n",
    "\n",
    "up=pd.read_csv(r'/Users/sarahpurpura/Desktop/Thesis/Soundings/Interpolate/FCX/Crosser/Vicco/Vicco - Up.csv')\n",
    "out_up=open(r'/Users/sarahpurpura/Desktop/Thesis/Soundings/Interpolate/FCX/Crosser/Vicco/Vicco_up.csv','w')\n",
    "interp(up,out_up)\n",
    "\n",
    "peak=pd.read_csv(r'/Users/sarahpurpura/Desktop/Thesis/Soundings/Interpolate/FCX/Crosser/Vicco/Vicco - Peak.csv')\n",
    "out_peak=open(r'/Users/sarahpurpura/Desktop/Thesis/Soundings/Interpolate/FCX/Crosser/Vicco/Vicco_peak.csv','w')\n",
    "interp(peak,out_peak)\n",
    "\n",
    "down=pd.read_csv(r'/Users/sarahpurpura/Desktop/Thesis/Soundings/Interpolate/FCX/Crosser/Vicco/Vicco - Down.csv')\n",
    "out_down=open(r'/Users/sarahpurpura/Desktop/Thesis/Soundings/Interpolate/FCX/Crosser/Vicco/Vicco_down.csv','w')\n",
    "interp(down,out_down)"
   ]
  },
  {
   "cell_type": "code",
   "execution_count": 427,
   "metadata": {},
   "outputs": [],
   "source": [
    "#FCX McKee\n",
    "\n",
    "#up=pd.read_csv(r'/Users/sarahpurpura/Desktop/Thesis/Soundings/Interpolate/FCX/Crosser/McKee/McKee - Up.csv')\n",
    "#out_up=open(r'/Users/sarahpurpura/Desktop/Thesis/Soundings/Interpolate/FCX/Crosser/McKee/McKee_up.csv','w')\n",
    "#interp(up,out_up)\n",
    "\n",
    "#peak=pd.read_csv(r'/Users/sarahpurpura/Desktop/Thesis/Soundings/Interpolate/FCX/Crosser/McKee/McKee - Peak.csv')\n",
    "#out_peak=open(r'/Users/sarahpurpura/Desktop/Thesis/Soundings/Interpolate/FCX/Crosser/McKee/McKee_peak.csv','w')\n",
    "#interp(peak,out_peak)\n",
    "\n",
    "down=pd.read_csv(r'/Users/sarahpurpura/Desktop/Thesis/Soundings/Interpolate/FCX/Crosser/McKee/McKee - Down.csv')\n",
    "out_down=open(r'/Users/sarahpurpura/Desktop/Thesis/Soundings/Interpolate/FCX/Crosser/McKee/McKee_down.csv','w')\n",
    "interp(down,out_down)\n",
    "\n",
    "\n"
   ]
  },
  {
   "cell_type": "code",
   "execution_count": 430,
   "metadata": {},
   "outputs": [],
   "source": [
    "#FCX Storm 1\n",
    "\n",
    "#up=pd.read_csv(r'/Users/sarahpurpura/Desktop/Thesis/Soundings/Interpolate/FCX/Crosser/Storm 1/Storm 1 - Up.csv')\n",
    "#out_up=open(r'/Users/sarahpurpura/Desktop/Thesis/Soundings/Interpolate/FCX/Crosser/Storm 1/Storm 1_up.csv','w')\n",
    "#interp(up,out_up)\n",
    "\n",
    "#peak=pd.read_csv(r'/Users/sarahpurpura/Desktop/Thesis/Soundings/Interpolate/FCX/Crosser/Storm 1/Storm 1 - Peak.csv')\n",
    "#out_peak=open(r'/Users/sarahpurpura/Desktop/Thesis/Soundings/Interpolate/FCX/Crosser/Storm 1/Storm 1_peak.csv','w')\n",
    "#interp(peak,out_peak)\n",
    "\n",
    "down=pd.read_csv(r'/Users/sarahpurpura/Desktop/Thesis/Soundings/Interpolate/FCX/Crosser/Storm 1/Storm 1 - Down.csv')\n",
    "out_down=open(r'/Users/sarahpurpura/Desktop/Thesis/Soundings/Interpolate/FCX/Crosser/Storm 1/Storm 1_down.csv','w')\n",
    "interp(down,out_down)\n"
   ]
  },
  {
   "cell_type": "code",
   "execution_count": null,
   "metadata": {},
   "outputs": [],
   "source": [
    "\n"
   ]
  },
  {
   "cell_type": "code",
   "execution_count": null,
   "metadata": {},
   "outputs": [],
   "source": []
  },
  {
   "cell_type": "code",
   "execution_count": null,
   "metadata": {},
   "outputs": [],
   "source": []
  }
 ],
 "metadata": {
  "kernelspec": {
   "display_name": "Python 3",
   "language": "python",
   "name": "python3"
  },
  "language_info": {
   "codemirror_mode": {
    "name": "ipython",
    "version": 3
   },
   "file_extension": ".py",
   "mimetype": "text/x-python",
   "name": "python",
   "nbconvert_exporter": "python",
   "pygments_lexer": "ipython3",
   "version": "3.7.7"
  }
 },
 "nbformat": 4,
 "nbformat_minor": 4
}
